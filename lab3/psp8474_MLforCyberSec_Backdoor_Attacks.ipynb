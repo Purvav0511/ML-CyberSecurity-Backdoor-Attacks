{
  "nbformat": 4,
  "nbformat_minor": 0,
  "metadata": {
    "colab": {
      "provenance": [],
      "authorship_tag": "ABX9TyOSJRemcrzF6pt2fYptWG7y",
      "include_colab_link": true
    },
    "kernelspec": {
      "name": "python3",
      "display_name": "Python 3"
    },
    "language_info": {
      "name": "python"
    }
  },
  "cells": [
    {
      "cell_type": "markdown",
      "metadata": {
        "id": "view-in-github",
        "colab_type": "text"
      },
      "source": [
        "<a href=\"https://colab.research.google.com/github/Purvav0511/ML-CyberSecurity-Backdoor-Attacks/blob/master/lab3/psp8474_MLforCyberSec_Backdoor_Attacks.ipynb\" target=\"_parent\"><img src=\"https://colab.research.google.com/assets/colab-badge.svg\" alt=\"Open In Colab\"/></a>"
      ]
    },
    {
      "cell_type": "code",
      "execution_count": null,
      "metadata": {
        "id": "m34iHwR5dnNm"
      },
      "outputs": [],
      "source": [
        "import pandas as pd\n",
        "import numpy as np\n",
        "import keras\n",
        "import sys\n",
        "import h5py\n",
        "import warnings\n",
        "from tqdm import tqdm\n",
        "import matplotlib.pyplot as plt\n",
        "import seaborn as sns"
      ]
    },
    {
      "cell_type": "markdown",
      "source": [
        "##BadNets\n",
        "BadNets refer to instances where neural networks, designed for specific tasks like image recognition or natural language processing, have been compromised or manipulated to produce inaccurate or malicious outputs. These alterations can stem from intentional tampering by adversaries, unintentional biases in the training data, or even faults in the network architecture. Such compromised models can pose significant risks, potentially leading to misclassification, security vulnerabilities, or unreliable decision-making in critical applications. Addressing and mitigating the emergence of BadNets demands robust security protocols, thorough model validation, diverse dataset curation, and continuous monitoring to ensure the integrity and reliability of AI systems.\n",
        "\n",
        "This displays the original badnet and prints the original badnet's accuracy and attack success rate."
      ],
      "metadata": {
        "id": "zSYKLgYyd3Bs"
      }
    },
    {
      "cell_type": "code",
      "source": [],
      "metadata": {
        "id": "crvwVOvCdvdn"
      },
      "execution_count": null,
      "outputs": []
    }
  ]
}